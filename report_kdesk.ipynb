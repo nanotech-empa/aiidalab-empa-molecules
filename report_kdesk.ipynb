{
 "cells": [
  {
   "cell_type": "code",
   "execution_count": null,
   "id": "moderate-monster",
   "metadata": {},
   "outputs": [],
   "source": [
    "%aiida"
   ]
  },
  {
   "cell_type": "code",
   "execution_count": null,
   "id": "dressed-watch",
   "metadata": {},
   "outputs": [],
   "source": [
    "import numpy as np\n",
    "import matplotlib.pyplot as plt\n",
    "\n",
    "import aiida_nanotech_empa.utils.gaussian_wcs_postprocess as pp\n",
    "\n",
    "from aiida_custom_workflows import utils"
   ]
  },
  {
   "cell_type": "markdown",
   "id": "union-screening",
   "metadata": {},
   "source": [
    "# workchains"
   ]
  },
  {
   "cell_type": "code",
   "execution_count": null,
   "id": "liquid-still",
   "metadata": {},
   "outputs": [],
   "source": [
    "workchains = [\n",
    "    [1515,  \"benz-diradical STO-3G localhost\"],\n",
    "    [8769,  \"di-phenalenyl PBE 6-311+G** tigu\"],\n",
    "# running\n",
    "    [11188,  \"di-phenalenyl B3LYP STO-3G localhost\"],\n",
    "    [11318,  \"di-phenalenyl PBEPBE/D3 6-311+G** euler\"],\n",
    "]"
   ]
  },
  {
   "cell_type": "code",
   "execution_count": null,
   "id": "sustained-metro",
   "metadata": {},
   "outputs": [],
   "source": [
    "utils.wc_overview(load_node(11318))"
   ]
  },
  {
   "cell_type": "code",
   "execution_count": null,
   "id": "threatened-article",
   "metadata": {},
   "outputs": [],
   "source": [
    "n = load_node(11087)"
   ]
  },
  {
   "cell_type": "code",
   "execution_count": null,
   "id": "front-thing",
   "metadata": {},
   "outputs": [],
   "source": [
    "list(n.outputs)"
   ]
  },
  {
   "cell_type": "code",
   "execution_count": null,
   "id": "unnecessary-regulation",
   "metadata": {},
   "outputs": [],
   "source": []
  },
  {
   "cell_type": "code",
   "execution_count": null,
   "id": "behavioral-cause",
   "metadata": {},
   "outputs": [],
   "source": []
  },
  {
   "cell_type": "code",
   "execution_count": null,
   "id": "widespread-charleston",
   "metadata": {},
   "outputs": [],
   "source": [
    "wc_node = load_node(11318)"
   ]
  },
  {
   "cell_type": "code",
   "execution_count": null,
   "id": "unable-plymouth",
   "metadata": {},
   "outputs": [],
   "source": [
    "pp.make_report(wc_node, nb=True)"
   ]
  },
  {
   "cell_type": "code",
   "execution_count": null,
   "id": "welcome-looking",
   "metadata": {},
   "outputs": [],
   "source": [
    "pp.plot_cube_images(wc_node.outputs.gs_cube_images, name_contains=['z+'])\n",
    "#,save_image_loc='fig/', save_prefix=f\"{wc_node.pk}_\")"
   ]
  },
  {
   "cell_type": "code",
   "execution_count": null,
   "id": "passing-component",
   "metadata": {},
   "outputs": [],
   "source": []
  }
 ],
 "metadata": {
  "kernelspec": {
   "display_name": "Python 3 (ipykernel)",
   "language": "python",
   "name": "python3"
  },
  "language_info": {
   "codemirror_mode": {
    "name": "ipython",
    "version": 3
   },
   "file_extension": ".py",
   "mimetype": "text/x-python",
   "name": "python",
   "nbconvert_exporter": "python",
   "pygments_lexer": "ipython3",
   "version": "3.7.9"
  }
 },
 "nbformat": 4,
 "nbformat_minor": 5
}
