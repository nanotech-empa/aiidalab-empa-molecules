{
 "cells": [
  {
   "cell_type": "code",
   "execution_count": null,
   "metadata": {},
   "outputs": [],
   "source": [
    "%aiida"
   ]
  },
  {
   "cell_type": "code",
   "execution_count": null,
   "metadata": {},
   "outputs": [],
   "source": [
    "%load_ext autoreload\n",
    "%autoreload 2"
   ]
  },
  {
   "cell_type": "code",
   "execution_count": null,
   "metadata": {},
   "outputs": [],
   "source": [
    "import numpy as np\n",
    "import matplotlib.pyplot as plt\n",
    "\n",
    "from aiida_nanotech_empa.utils import stm_tools"
   ]
  },
  {
   "cell_type": "code",
   "execution_count": null,
   "metadata": {},
   "outputs": [],
   "source": [
    "# Define the cube_planes_array and scf_out_params\n",
    "\n",
    "# SPIN WORKCHAIN PK\n",
    "wc_node = load_node(1081)\n",
    "cpa = wc_node.outputs.gs_cube_planes\n",
    "sop = dict(wc_node.outputs.gs_out_params)"
   ]
  },
  {
   "cell_type": "code",
   "execution_count": null,
   "metadata": {},
   "outputs": [],
   "source": [
    "#cpa_dict"
   ]
  },
  {
   "cell_type": "code",
   "execution_count": null,
   "metadata": {
    "scrolled": false
   },
   "outputs": [],
   "source": [
    "cpa_dict = stm_tools.process_cube_planes_array(cpa)\n",
    "\n",
    "print(\"Calculated orbitals {}\".format(sorted(cpa_dict['mo_planes'].keys())))\n",
    "print(\"Calculated heights {}\".format(cpa_dict['heights']))"
   ]
  },
  {
   "cell_type": "code",
   "execution_count": null,
   "metadata": {},
   "outputs": [],
   "source": [
    "# Define LDOS & STS parameters\n",
    "# probably a good default extrap_h to use is 4 because of the diffuse basis set\n",
    "extrap_h = 3.0\n",
    "h = 6.0\n",
    "fwhm = 0.05\n",
    "\n",
    "figure_size = (5, 5)"
   ]
  },
  {
   "cell_type": "code",
   "execution_count": null,
   "metadata": {},
   "outputs": [],
   "source": [
    "print(sop['moenergies'])"
   ]
  },
  {
   "cell_type": "code",
   "execution_count": null,
   "metadata": {
    "scrolled": false
   },
   "outputs": [],
   "source": [
    "for i_mo in sorted(cpa_dict['mo_planes'], reverse=True):\n",
    "    \n",
    "    print(f\"MO {i_mo}\")\n",
    "    nspin = len(sop['moenergies'])\n",
    "    \n",
    "    n_cols = 3*nspin\n",
    "    \n",
    "    _fig, axs = plt.subplots(nrows=1, ncols=n_cols, figsize=(n_cols * figure_size[0], figure_size[1]))\n",
    "    \n",
    "    axc = 0\n",
    "    \n",
    "    cmn = {'h': h, 'extrap_h': extrap_h, 'fwhm': fwhm}\n",
    "    \n",
    "    for i_spin in range(nspin):\n",
    "        \n",
    "        stm_tools.plot_mapping(sop, cpa, i_mo, i_spin, kind='orb', ax=axs[axc], **cmn)\n",
    "        axc += 1\n",
    "        \n",
    "    for i_spin in range(nspin):\n",
    "        \n",
    "        stm_tools.plot_mapping(sop, cpa, i_mo, i_spin, kind='orb2', ax=axs[axc], **cmn)\n",
    "        axc += 1\n",
    "        \n",
    "    for i_spin in range(nspin):\n",
    "        \n",
    "        stm_tools.plot_mapping(sop, cpa, i_mo, i_spin, kind='sts', ax=axs[axc], **cmn)\n",
    "        axc += 1\n",
    "    break\n",
    "    plt.show()"
   ]
  }
 ],
 "metadata": {
  "kernelspec": {
   "display_name": "Python 3 (ipykernel)",
   "language": "python",
   "name": "python3"
  },
  "language_info": {
   "codemirror_mode": {
    "name": "ipython",
    "version": 3
   },
   "file_extension": ".py",
   "mimetype": "text/x-python",
   "name": "python",
   "nbconvert_exporter": "python",
   "pygments_lexer": "ipython3",
   "version": "3.7.9"
  }
 },
 "nbformat": 4,
 "nbformat_minor": 4
}
