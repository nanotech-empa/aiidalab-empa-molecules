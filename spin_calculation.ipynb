{
 "cells": [
  {
   "cell_type": "code",
   "execution_count": null,
   "metadata": {},
   "outputs": [],
   "source": [
    "%%javascript\n",
    "IPython.OutputArea.prototype._should_scroll = function(lines) {\n",
    "    return false;\n",
    "}"
   ]
  },
  {
   "cell_type": "code",
   "execution_count": null,
   "metadata": {},
   "outputs": [],
   "source": [
    "%load_ext aiida\n",
    "%aiida\n",
    "import ipywidgets as ipw\n",
    "import traitlets as tr\n",
    "import aiidalab_widgets_base as awb\n",
    "import urllib.parse as urlparse\n",
    "from aiidalab_widgets_base.bug_report import install_create_github_issue_exception_handler\n",
    "from aiidalab_widgets_base import WizardAppWidgetStep\n",
    "from empa_molecules import steps, widgets"
   ]
  },
  {
   "cell_type": "code",
   "execution_count": null,
   "metadata": {},
   "outputs": [],
   "source": [
    "def _observe_process_selection(change):\n",
    "    if change['old'] == change['new']:\n",
    "        return\n",
    "    uuid = change['new']\n",
    "    if uuid is None:\n",
    "        app.reset()\n",
    "        app.selected_index = 0\n",
    "    else:\n",
    "        process = load_node(uuid)\n",
    "\n",
    "        # Structure:\n",
    "        with select_structure_step.manager.hold_sync():\n",
    "            with select_structure_step.hold_sync():\n",
    "                select_structure_step.confirmed_structure = process.inputs.structure\n",
    "                select_structure_step.manager.input_structure = process.inputs.structure\n",
    "        # Config.\n",
    "        configure_calculation_step.dft_functional.value = process.inputs.functional\n",
    "        configure_calculation_step.empirical_dispersion.value = process.inputs.empirical_dispersion\n",
    "        configure_calculation_step.basis_set_opt.value = process.inputs.basis_set_opt\n",
    "        configure_calculation_step.basis_set_scf.value = process.inputs.basis_set_scf\n",
    "        configure_calculation_step.multiplicity_list.value = \" \".join(map(str, process.inputs.multiplicity_list))\n",
    "        configure_calculation_step.state = WizardAppWidgetStep.State.SUCCESS\n",
    "        configure_calculation_step.confirm_button.disabled = True\n",
    "\n",
    "        # Codes & resources\n",
    "        try:\n",
    "            submit_calculation_step.gaussian_code_dropdown.value = process.inputs.gaussian_code.uuid\n",
    "            submit_calculation_step.formchk_code_dropdown.value = process.inputs.formchk_code.uuid\n",
    "            submit_calculation_step.cubegen_code_dropdown.value = process.inputs.cubegen_code.uuid\n",
    "        except tr.TraitError:\n",
    "            pass\n",
    "\n",
    "        if \"options\" in process.inputs:\n",
    "            submit_calculation_step.n_mpi_tasks_widget.value = process.inputs.options[\"resources\"][\"tot_num_mpiprocs\"]\n",
    "            submit_calculation_step.memory_widget.value = process.inputs.options[\"max_memory_kb\"] / 1024 / 1.25\n",
    "            submit_calculation_step.run_time_widget.value = process.inputs.options[\"max_wallclock_seconds\"] / 60\n",
    "        submit_calculation_step.state = WizardAppWidgetStep.State.SUCCESS\n",
    "\n",
    "        # Running process.\n",
    "        submit_calculation_step.value = process.uuid\n"
   ]
  },
  {
   "cell_type": "code",
   "execution_count": null,
   "metadata": {},
   "outputs": [],
   "source": [
    "# Add process selection header\n",
    "work_chain_selector = widgets.WorkChainSelectorWidget(layout=ipw.Layout(width='auto'))\n",
    "work_chain_selector.observe(_observe_process_selection, 'value')    \n",
    "\n",
    "select_structure_step = steps.StructureSelectionStep(auto_advance=True)\n",
    "\n",
    "configure_calculation_step = steps.ConfigureGaussianCalculationStep(auto_advance=True)\n",
    "\n",
    "ipw.dlink((select_structure_step, 'confirmed_structure'), (configure_calculation_step, 'input_structure'))\n",
    "\n",
    "\n",
    "submit_calculation_step = steps.SubmitGaussianCalculationStep(auto_advance=True)\n",
    "ipw.dlink((configure_calculation_step, 'inputs'), (submit_calculation_step, \"inputs\"))\n",
    "\n",
    "\n",
    "results = steps.ViewGaussianWorkChainStatusAndResultsStep(auto_advance=True)\n",
    "ipw.dlink((submit_calculation_step, 'value'), (results, 'value'))        \n",
    "ipw.dlink((submit_calculation_step, 'value'), (work_chain_selector, 'value'))\n",
    "\n",
    "app = awb.WizardAppWidget(\n",
    "    steps=[\n",
    "        (\"Select structure\", select_structure_step),\n",
    "        (\"Configure calculation\", configure_calculation_step),\n",
    "        (\"Submit\", submit_calculation_step),\n",
    "        (\"Results\", results)\n",
    "    ]\n",
    ")\n",
    "\n",
    "app_with_work_chain_selector = ipw.VBox(children=[work_chain_selector, app])\n",
    "\n",
    "output = ipw.Output()\n",
    "install_create_github_issue_exception_handler(\n",
    "    output,\n",
    "    url='https://github.com/nanotech-empa/aiidalab-empa-molecules/issues/new',\n",
    "    labels=('bug', 'automated-report'))\n",
    "\n",
    "with output:\n",
    "    display(app_with_work_chain_selector)\n",
    "    \n",
    "display(output)"
   ]
  },
  {
   "cell_type": "code",
   "execution_count": null,
   "metadata": {},
   "outputs": [],
   "source": [
    "url = urlparse.urlsplit(jupyter_notebook_url)\n",
    "parsed_url = urlparse.parse_qs(url.query)\n",
    "if 'pk' in parsed_url:\n",
    "    work_chain_selector.value = int(parsed_url['pk'][0])"
   ]
  }
 ],
 "metadata": {
  "kernelspec": {
   "display_name": "Python 3 (ipykernel)",
   "language": "python",
   "name": "python3"
  },
  "language_info": {
   "codemirror_mode": {
    "name": "ipython",
    "version": 3
   },
   "file_extension": ".py",
   "mimetype": "text/x-python",
   "name": "python",
   "nbconvert_exporter": "python",
   "pygments_lexer": "ipython3",
   "version": "3.9.13"
  }
 },
 "nbformat": 4,
 "nbformat_minor": 2
}
