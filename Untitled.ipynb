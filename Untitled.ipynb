{
 "cells": [
  {
   "cell_type": "code",
   "execution_count": 1,
   "id": "2c23f7af",
   "metadata": {},
   "outputs": [],
   "source": [
    "%aiida\n",
    "import aiida_nanotech_empa.utils.stm_tools as stm\n",
    "import aiida_nanotech_empa.utils.gaussian_wcs_postprocess as pp\n",
    "import matplotlib.pyplot as plt\n",
    "\n",
    "import ipywidgets as ipw\n",
    "from IPython.display import clear_output"
   ]
  },
  {
   "cell_type": "code",
   "execution_count": 2,
   "id": "6a09415c",
   "metadata": {},
   "outputs": [],
   "source": [
    "node = load_node(1081)\n",
    "out = ipw.Output()"
   ]
  },
  {
   "cell_type": "code",
   "execution_count": 3,
   "id": "9cfd3ffc",
   "metadata": {},
   "outputs": [],
   "source": [
    "cpa = node.outputs.gs_cube_planes\n",
    "cpa_dict = stm.process_cube_planes_array(cpa) # changes for different multiplicity"
   ]
  },
  {
   "cell_type": "code",
   "execution_count": 4,
   "id": "9230c09b",
   "metadata": {},
   "outputs": [],
   "source": [
    "def replot(_=None):\n",
    "    with out:\n",
    "        clear_output()\n",
    "        #pp.plot_cube_images(node.outputs.gs_cube_images)\n",
    "        sop = dict(node.outputs.gs_out_params) # different for different multiplicity\n",
    "        _fig, axs = plt.subplots(nrows=1, ncols=5)\n",
    "        i_spin = 0\n",
    "        stm.plot_mapping(sop, cpa, orbitals.value, spin.value, kind='orb', h=heights.value, ax=axs[3], extrap_h=3.0, fwhm=0.05)\n",
    "        #plt.plot()"
   ]
  },
  {
   "cell_type": "code",
   "execution_count": 5,
   "id": "8baa4d3a",
   "metadata": {},
   "outputs": [
    {
     "data": {
      "text/plain": [
       "2"
      ]
     },
     "execution_count": 5,
     "metadata": {},
     "output_type": "execute_result"
    }
   ],
   "source": [
    "sop = dict(node.outputs.gs_out_params) # different for different multiplicity\n",
    "len(sop['homos']) # finding how many spins are there."
   ]
  },
  {
   "cell_type": "code",
   "execution_count": 6,
   "id": "24ee5e1c",
   "metadata": {},
   "outputs": [],
   "source": [
    "orbitals = ipw.Dropdown(description=\"Orbitals\", options = sorted(cpa_dict['mo_planes'].keys()))\n",
    "orbitals.observe(replot, names='value')\n",
    "extrapolation_planes = ipw.Dropdown(description=\"Extrapolation planes\", options = cpa_dict['heights'])\n",
    "extrapolation_planes.observe(replot, names='value')\n",
    "heights = ipw.FloatSlider(description=\"Heights\", value=extrapolation_planes.value+3)\n",
    "ipw.dlink((extrapolation_planes, 'value'), (heights, 'max'), transform=lambda v: v+5.0)\n",
    "ipw.dlink((extrapolation_planes, 'value'), (heights, 'min'))\n",
    "heights.observe(replot, names='value')\n",
    "spin = ipw.Dropdown(description='Spin:', value = 0, options= {'Up': 0, 'Down':1})\n",
    "spin.observe(replot, names='value')\n",
    "kind = ipw.Dropdown(description=\"Kind\", options = [('Orbital', 'orb'), ('Orbitalˆ2', 'orb2'), ('STS','sts')])\n",
    "kind.observe(replot, names='value')"
   ]
  },
  {
   "cell_type": "code",
   "execution_count": 7,
   "id": "ad3eb18e",
   "metadata": {},
   "outputs": [
    {
     "data": {
      "application/vnd.jupyter.widget-view+json": {
       "model_id": "c2c93474b6eb4f7ea8ab213b0ee839d1",
       "version_major": 2,
       "version_minor": 0
      },
      "text/plain": [
       "Dropdown(description='Orbitals', options=(0, 1, 2, 3, 4, 5, 6, 7, 8), value=0)"
      ]
     },
     "metadata": {},
     "output_type": "display_data"
    },
    {
     "data": {
      "application/vnd.jupyter.widget-view+json": {
       "model_id": "3790e4012a494e69b85419fc1a548966",
       "version_major": 2,
       "version_minor": 0
      },
      "text/plain": [
       "Dropdown(description='Extrapolation planes', options=(3.0, 4.0), value=3.0)"
      ]
     },
     "metadata": {},
     "output_type": "display_data"
    },
    {
     "data": {
      "application/vnd.jupyter.widget-view+json": {
       "model_id": "a74b65ad8b4945eea5a1b76cf12118ce",
       "version_major": 2,
       "version_minor": 0
      },
      "text/plain": [
       "FloatSlider(value=6.0, description='Heights', max=8.0, min=3.0)"
      ]
     },
     "metadata": {},
     "output_type": "display_data"
    },
    {
     "data": {
      "application/vnd.jupyter.widget-view+json": {
       "model_id": "33b47df773304fb48b98246d5b6bcdeb",
       "version_major": 2,
       "version_minor": 0
      },
      "text/plain": [
       "Dropdown(description='Spin:', options={'Up': 0, 'Down': 1}, value=0)"
      ]
     },
     "metadata": {},
     "output_type": "display_data"
    },
    {
     "data": {
      "application/vnd.jupyter.widget-view+json": {
       "model_id": "c4d39f51fde04bd1a9051b3db33be682",
       "version_major": 2,
       "version_minor": 0
      },
      "text/plain": [
       "Dropdown(description='Kind', options=(('Orbital', 'orb'), ('Orbitalˆ2', 'orb2'), ('STS', 'sts')), value='orb')"
      ]
     },
     "metadata": {},
     "output_type": "display_data"
    },
    {
     "data": {
      "application/vnd.jupyter.widget-view+json": {
       "model_id": "b37028f76778450391db70b730cc68fe",
       "version_major": 2,
       "version_minor": 0
      },
      "text/plain": [
       "Output()"
      ]
     },
     "metadata": {},
     "output_type": "display_data"
    },
    {
     "data": {
      "image/png": "[encoded data removed]",
      "text/plain": [
       "<Figure size 432x288 with 5 Axes>"
      ]
     },
     "metadata": {
      "needs_background": "light"
     },
     "output_type": "display_data"
    }
   ],
   "source": [
    "display(orbitals, extrapolation_planes, heights, spin, kind, out)"
   ]
  },
  {
   "cell_type": "code",
   "execution_count": null,
   "id": "77239ed6",
   "metadata": {},
   "outputs": [],
   "source": []
  }
 ],
 "metadata": {
  "kernelspec": {
   "display_name": "Python 3 (ipykernel)",
   "language": "python",
   "name": "python3"
  },
  "language_info": {
   "codemirror_mode": {
    "name": "ipython",
    "version": 3
   },
   "file_extension": ".py",
   "mimetype": "text/x-python",
   "name": "python",
   "nbconvert_exporter": "python",
   "pygments_lexer": "ipython3",
   "version": "3.7.9"
  }
 },
 "nbformat": 4,
 "nbformat_minor": 5
}
